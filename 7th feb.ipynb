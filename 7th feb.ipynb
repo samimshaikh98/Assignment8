{
 "cells": [
  {
   "cell_type": "markdown",
   "id": "dc0c9a1c-44a9-411d-b7dd-06a9eeaeb3f9",
   "metadata": {},
   "source": [
    "7th feb assignment"
   ]
  },
  {
   "cell_type": "markdown",
   "id": "a09f6eac-33c1-4567-b223-d39b19341638",
   "metadata": {},
   "source": [
    "Q1. You are writing code for a company. The requirement of the company is that you create a python\n",
    "function that will check whether the password entered by the user is correct or not. The function should\n",
    "take the password as input and return the string “Valid Password” if the entered password follows the\n",
    "below-given password guidelines else it should return “Invalid Password”.\n",
    "Note: 1. The Password should contain at least two uppercase letters and at least two lowercase letters.\n",
    "2. The Password should contain at least a number and three special characters.\n",
    "3. The length of the password should be 10 characters long."
   ]
  },
  {
   "cell_type": "code",
   "execution_count": 12,
   "id": "372e563a-96c5-4f6b-9003-99a6c4f20274",
   "metadata": {},
   "outputs": [
    {
     "name": "stdout",
     "output_type": "stream",
     "text": [
      "Invalid Password\n"
     ]
    }
   ],
   "source": [
    "def validate_password(password):\n",
    "    upper_count = 0\n",
    "    lower_count = 0\n",
    "    number_count = 0\n",
    "    special_count = 0\n",
    "    \n",
    "    for char in password:\n",
    "        if char.isupper():\n",
    "            upper_count += 1\n",
    "        elif char.islower():\n",
    "            lower_count += 1\n",
    "        elif char.isdigit():\n",
    "            number_count += 1\n",
    "        elif not char.isalnum():\n",
    "            special_count += 1\n",
    "    \n",
    "    if upper_count >= 2 and lower_count >= 2 and number_count >= 1 and special_count >= 3 and len(password) == 10:\n",
    "        return \"Valid Password\"\n",
    "    else:\n",
    "        return \"Invalid Password\"\n",
    "\n",
    "password = \"Abcdef$%^G\"\n",
    "result = validate_password(password)\n",
    "print(result)\n"
   ]
  },
  {
   "cell_type": "markdown",
   "id": "bead98ce-df23-4763-9149-62c28f10ffea",
   "metadata": {},
   "source": [
    "Q2. Solve the below-given questions using at least one of the following:\n",
    "1. Lambda functioJ\n",
    "2. Filter functioJ\n",
    "3. Zap functioJ\n",
    "4. List ComprehensioI\n",
    "B Check if the string starts with a particular letterY\n",
    "B Check if the string is numericY\n",
    "B Sort a list of tuples having fruit names and their quantity. [(\"mango\",99),(\"orange\",80), (\"grapes\", 1000)-\n",
    "B Find the squares of numbers from 1 to 10Y\n",
    "B Find the cube root of numbers from 1 to 10Y\n",
    "B Check if a given number is evenY\n",
    "B Filter odd numbers from the given list.\n",
    "[1,2,3,4,5,6,7,8,9,10-\n",
    "B Sort a list of integers into positive and negative integers lists.\n",
    "[1,2,3,4,5,6,-1,-2,-3,-4,-5,0]"
   ]
  },
  {
   "cell_type": "code",
   "execution_count": 13,
   "id": "6663f30e-a320-40eb-995c-e349459787a5",
   "metadata": {},
   "outputs": [
    {
     "name": "stdout",
     "output_type": "stream",
     "text": [
      "['cherry']\n"
     ]
    }
   ],
   "source": [
    "def starts_with(lst, letter):\n",
    "    return [word for word in lst if word.startswith(letter)]\n",
    "\n",
    "words = ['apple', 'banana', 'cherry', 'date']\n",
    "letter = 'c'\n",
    "result = starts_with(words, letter)\n",
    "print(result)\n",
    "\n"
   ]
  },
  {
   "cell_type": "code",
   "execution_count": 14,
   "id": "845971b4-374b-494e-acb3-f80d98a457c1",
   "metadata": {},
   "outputs": [
    {
     "name": "stdout",
     "output_type": "stream",
     "text": [
      "['123', '456']\n"
     ]
    }
   ],
   "source": [
    "def is_numeric(lst):\n",
    "    return [word for word in lst if word.isnumeric()]\n",
    "\n",
    "words = ['apple', 'banana', '123', '456']\n",
    "result = is_numeric(words)\n",
    "print(result)\n"
   ]
  },
  {
   "cell_type": "code",
   "execution_count": 18,
   "id": "ea2af1be-3311-406d-8779-c7f6f0664fcf",
   "metadata": {},
   "outputs": [
    {
     "data": {
      "text/plain": [
       "[('orange', 80), ('mango', 99), ('grapes', 1000)]"
      ]
     },
     "execution_count": 18,
     "metadata": {},
     "output_type": "execute_result"
    }
   ],
   "source": [
    "fruits = [(\"mango\", 99), (\"orange\", 80), (\"grapes\", 1000)]\n",
    "sorted(fruits, key=lambda x: x[1]) \n"
   ]
  },
  {
   "cell_type": "code",
   "execution_count": 20,
   "id": "deebecda-2b95-455e-beef-e6e770d77ccd",
   "metadata": {},
   "outputs": [
    {
     "data": {
      "text/plain": [
       "[1, 4, 9, 16, 25, 36, 49, 64, 81, 100]"
      ]
     },
     "execution_count": 20,
     "metadata": {},
     "output_type": "execute_result"
    }
   ],
   "source": [
    "numbers = range(1, 11)\n",
    "[x**2 for x in numbers]\n",
    "\n"
   ]
  },
  {
   "cell_type": "code",
   "execution_count": 42,
   "id": "a5f22c5f-2d56-4fd0-9778-328b7a4928af",
   "metadata": {},
   "outputs": [
    {
     "ename": "AttributeError",
     "evalue": "module 'math' has no attribute 'cbrt'",
     "output_type": "error",
     "traceback": [
      "\u001b[0;31m---------------------------------------------------------------------------\u001b[0m",
      "\u001b[0;31mAttributeError\u001b[0m                            Traceback (most recent call last)",
      "Cell \u001b[0;32mIn[42], line 4\u001b[0m\n\u001b[1;32m      1\u001b[0m \u001b[38;5;28;01mimport\u001b[39;00m \u001b[38;5;21;01mmath\u001b[39;00m\n\u001b[1;32m      3\u001b[0m numbers \u001b[38;5;241m=\u001b[39m \u001b[38;5;28mrange\u001b[39m(\u001b[38;5;241m1\u001b[39m, \u001b[38;5;241m11\u001b[39m)\n\u001b[0;32m----> 4\u001b[0m [math\u001b[38;5;241m.\u001b[39mcbrt(x) \u001b[38;5;28;01mfor\u001b[39;00m x \u001b[38;5;129;01min\u001b[39;00m numbers] \n",
      "Cell \u001b[0;32mIn[42], line 4\u001b[0m, in \u001b[0;36m<listcomp>\u001b[0;34m(.0)\u001b[0m\n\u001b[1;32m      1\u001b[0m \u001b[38;5;28;01mimport\u001b[39;00m \u001b[38;5;21;01mmath\u001b[39;00m\n\u001b[1;32m      3\u001b[0m numbers \u001b[38;5;241m=\u001b[39m \u001b[38;5;28mrange\u001b[39m(\u001b[38;5;241m1\u001b[39m, \u001b[38;5;241m11\u001b[39m)\n\u001b[0;32m----> 4\u001b[0m [\u001b[43mmath\u001b[49m\u001b[38;5;241;43m.\u001b[39;49m\u001b[43mcbrt\u001b[49m(x) \u001b[38;5;28;01mfor\u001b[39;00m x \u001b[38;5;129;01min\u001b[39;00m numbers] \n",
      "\u001b[0;31mAttributeError\u001b[0m: module 'math' has no attribute 'cbrt'"
     ]
    }
   ],
   "source": [
    "\n",
    "import math\n",
    "\n",
    "numbers = range(1, 11)\n",
    "[math.cbrt(x) for x in numbers] \n",
    "\n",
    "\n"
   ]
  },
  {
   "cell_type": "code",
   "execution_count": 22,
   "id": "622bfc10-b2e1-4410-9b6d-f437af60b7b0",
   "metadata": {},
   "outputs": [
    {
     "name": "stdout",
     "output_type": "stream",
     "text": [
      "True\n"
     ]
    }
   ],
   "source": [
    "is_even = lambda x: x % 2 == 0\n",
    "\n",
    "number = 4\n",
    "result = is_even(number)\n",
    "print(result)\n"
   ]
  },
  {
   "cell_type": "code",
   "execution_count": 27,
   "id": "dcdab080-fcad-41f1-8b63-93f2ce9ecc00",
   "metadata": {},
   "outputs": [
    {
     "data": {
      "text/plain": [
       "[1, 3, 5, 7, 9]"
      ]
     },
     "execution_count": 27,
     "metadata": {},
     "output_type": "execute_result"
    }
   ],
   "source": [
    " l=[1,2,3,4,5,6,7,8,9,10]\n",
    "[i for i in l if i % 2 !=0]"
   ]
  },
  {
   "cell_type": "code",
   "execution_count": 51,
   "id": "4f21d83b-13f8-43e6-bfc9-e772655ec808",
   "metadata": {},
   "outputs": [
    {
     "name": "stdout",
     "output_type": "stream",
     "text": [
      "[1, 2, 3, 4, 5, 6]\n",
      "[-1, -2, -3, -4, -5]\n"
     ]
    }
   ],
   "source": [
    "numbers = [1, 2, 3, 4, 5, 6, -1, -2, -3, -4, -5, 0]\n",
    "p=[i for i in numbers if i > 0]\n",
    "n=[i for i in numbers if i < 0]\n",
    "print(p)\n",
    "print(n)\n",
    " \n",
    " \n"
   ]
  },
  {
   "cell_type": "code",
   "execution_count": null,
   "id": "4395d94f-ea62-4073-9201-6d826aeec88b",
   "metadata": {},
   "outputs": [],
   "source": []
  }
 ],
 "metadata": {
  "kernelspec": {
   "display_name": "Python 3 (ipykernel)",
   "language": "python",
   "name": "python3"
  },
  "language_info": {
   "codemirror_mode": {
    "name": "ipython",
    "version": 3
   },
   "file_extension": ".py",
   "mimetype": "text/x-python",
   "name": "python",
   "nbconvert_exporter": "python",
   "pygments_lexer": "ipython3",
   "version": "3.10.8"
  }
 },
 "nbformat": 4,
 "nbformat_minor": 5
}
